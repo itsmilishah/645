{
 "cells": [
  {
   "cell_type": "markdown",
   "metadata": {},
   "source": [
    "# Visualization for HW5"
   ]
  },
  {
   "cell_type": "markdown",
   "metadata": {},
   "source": [
    "Enter Your Name here : Mili Shah "
   ]
  },
  {
   "cell_type": "markdown",
   "metadata": {},
   "source": [
    "**Instructions**: This part of the assignment deals with visualizing the trends observed for the queries in the problem description. Run the associated cell for the specified query and convince yourself that what is presented in the output makes sense as per your expectations."
   ]
  },
  {
   "cell_type": "markdown",
   "metadata": {},
   "source": [
    "# RUN THE BELOW CELL FIRST for dependecy resolution, before running any subseqeuent cell."
   ]
  },
  {
   "cell_type": "code",
   "execution_count": 1,
   "metadata": {},
   "outputs": [],
   "source": [
    "#Import all Dependencies\n",
    "\n",
    "# http://pandas.pydata.org/\n",
    "# Documentation available at https://pandas.pydata.org/pandas-docs/stable/\n",
    "# Open source, BSD-licensed library providing high-performance, easy-to-use data structures and data analysis tools for the Python programming language.\n",
    "import pandas as pd\n",
    "\n",
    "# http://matplotlib.org/\n",
    "# De-facto standard\n",
    "import matplotlib.pyplot as plt\n",
    "\n",
    "# This module contains classes to support completely configurable tick locating and formatting\n",
    "# https://matplotlib.org/api/ticker_api.html\n",
    "import matplotlib.ticker as ticker\n",
    "\n",
    "# Setup matplotlib to work inside the notebook using\n",
    "%matplotlib inline"
   ]
  },
  {
   "cell_type": "markdown",
   "metadata": {},
   "source": [
    "# Query 3 : Distribution of publication types"
   ]
  },
  {
   "cell_type": "markdown",
   "metadata": {},
   "source": [
    "*Insert your query in the cell below* (please put the query in \"markdown\" as plain text and do not execute the sql query as code) :"
   ]
  },
  {
   "cell_type": "markdown",
   "metadata": {},
   "source": [
    "------------- **INSERT QUERY 3 HERE** ----------------\n",
    "drop table if exists types;\n",
    "\n",
    "create temp table types(type_id INTEGER primary key, type_name text);\n",
    "insert into types values(0, 'Journal Articles');\n",
    "insert into types values(1, 'Conference and Workshop Papers');\n",
    "insert into types values(3, 'Books and Thesis');\n",
    "\n",
    "copy\n",
    "(\n",
    "\tselect type_name as type, count(papers.id) as publications\n",
    "\tfrom papers\n",
    "\t\tjoin venue on papers.venue = venue.id\n",
    "\t\tjoin types on venue.type = types.type_id\n",
    "\twhere year != 0\n",
    "\tgroup by type_name\n",
    ")\n",
    "to '/tmp/papers_count_per_type.csv'\n",
    "with delimiter ',' csv header;\n",
    "\n",
    "drop table if exists types;"
   ]
  },
  {
   "cell_type": "code",
   "execution_count": 2,
   "metadata": {},
   "outputs": [
    {
     "name": "stdout",
     "output_type": "stream",
     "text": [
      "<class 'pandas.core.frame.DataFrame'>\n",
      "RangeIndex: 3 entries, 0 to 2\n",
      "Data columns (total 2 columns):\n",
      "type            3 non-null object\n",
      "publications    3 non-null int64\n",
      "dtypes: int64(1), object(1)\n",
      "memory usage: 120.0+ bytes\n"
     ]
    },
    {
     "data": {
      "text/html": [
       "<div>\n",
       "<style scoped>\n",
       "    .dataframe tbody tr th:only-of-type {\n",
       "        vertical-align: middle;\n",
       "    }\n",
       "\n",
       "    .dataframe tbody tr th {\n",
       "        vertical-align: top;\n",
       "    }\n",
       "\n",
       "    .dataframe thead th {\n",
       "        text-align: right;\n",
       "    }\n",
       "</style>\n",
       "<table border=\"1\" class=\"dataframe\">\n",
       "  <thead>\n",
       "    <tr style=\"text-align: right;\">\n",
       "      <th></th>\n",
       "      <th>type</th>\n",
       "      <th>publications</th>\n",
       "    </tr>\n",
       "  </thead>\n",
       "  <tbody>\n",
       "    <tr>\n",
       "      <th>0</th>\n",
       "      <td>Journal Articles</td>\n",
       "      <td>1401693</td>\n",
       "    </tr>\n",
       "    <tr>\n",
       "      <th>1</th>\n",
       "      <td>Books and Thesis</td>\n",
       "      <td>6974</td>\n",
       "    </tr>\n",
       "    <tr>\n",
       "      <th>2</th>\n",
       "      <td>Conference and Workshop Papers</td>\n",
       "      <td>1740812</td>\n",
       "    </tr>\n",
       "  </tbody>\n",
       "</table>\n",
       "</div>"
      ],
      "text/plain": [
       "                             type  publications\n",
       "0                Journal Articles       1401693\n",
       "1                Books and Thesis          6974\n",
       "2  Conference and Workshop Papers       1740812"
      ]
     },
     "execution_count": 2,
     "metadata": {},
     "output_type": "execute_result"
    }
   ],
   "source": [
    "# File Statistics for Query 3 Answer \n",
    "# (where answer fileName of the query in the current directory is : \"papers_count_per_type.csv\")\n",
    "\n",
    "# Read CSV (comma-separated) file into DataFrame\n",
    "papers_count_per_type = pd.read_csv('papers_count_per_type.csv')\n",
    "\n",
    "# Concise summary of a DataFrame.\n",
    "# https://pandas.pydata.org/pandas-docs/stable/generated/pandas.DataFrame.info.html\n",
    "papers_count_per_type.info()\n",
    "\n",
    "\n",
    "# Table Answer of the query\n",
    "# Return the first n rows.\n",
    "# https://pandas.pydata.org/pandas-docs/stable/generated/pandas.DataFrame.head.html\n",
    "papers_count_per_type.head()"
   ]
  },
  {
   "cell_type": "code",
   "execution_count": 3,
   "metadata": {},
   "outputs": [
    {
     "data": {
      "image/png": "[encoded data removed]",
      "text/plain": [
       "<matplotlib.figure.Figure at 0x7f4ddff18c10>"
      ]
     },
     "metadata": {},
     "output_type": "display_data"
    }
   ],
   "source": [
    "# Visualization for Query 3 (Pie Chart)\n",
    "\n",
    "\n",
    "# https://matplotlib.org/api/_as_gen/matplotlib.pyplot.subplots.html?highlight=subplots\n",
    "# Create a figure and one subplot.\n",
    "fig, ax = plt.subplots()\n",
    "# Set a title for the axes.\n",
    "# https://matplotlib.org/devdocs/api/_as_gen/matplotlib.axes.Axes.set_title.html\n",
    "ax.set_title('Distribution of publication types')\n",
    "# https://matplotlib.org/api/_as_gen/matplotlib.pyplot.pie.html?highlight=matplotlib%20pyplot%20pie\n",
    "ax.pie(papers_count_per_type['publications'], labels=papers_count_per_type['type'], autopct='%1.2f%%', shadow=True, startangle=90)\n",
    "# Equal aspect ratio ensures that pie is drawn as a circle.\n",
    "ax.axis('equal')\n",
    "# Plot lines and/or markers to the Axes.\n",
    "# https://matplotlib.org/api/_as_gen/matplotlib.axes.Axes.plot.html\n",
    "# By adding a semicolon at the end, the output is suppressed.\n",
    "ax.plot();"
   ]
  },
  {
   "cell_type": "markdown",
   "metadata": {},
   "source": [
    "# Query 4 : Publications by type per year"
   ]
  },
  {
   "cell_type": "markdown",
   "metadata": {},
   "source": [
    "*Insert your query in the cell below* (please put the query in \"markdown\" as plain text and do not execute the sql query as code) :"
   ]
  },
  {
   "cell_type": "markdown",
   "metadata": {},
   "source": [
    "------------- **INSERT QUERY 4 HERE** ----------------\n",
    "create extension tablefunc;\n",
    "\n",
    "copy(\n",
    "with ans as\n",
    "(\n",
    "select *\n",
    "from crosstab\n",
    "(\n",
    "\t'select year, type, count(papers.id) as publications\n",
    "\tfrom papers\n",
    "\t\tjoin venue on papers.venue = venue.id\n",
    "\twhere year != 0\n",
    "\tgroup by year, type\n",
    "\torder by year, type',\n",
    "\t'select distinct type\n",
    "\tfrom venue\n",
    "\torder by type'\n",
    ") as res(year integer, \"journal_articles_publications\"\t integer,\n",
    "\t\t\"conference_and_workshop_papers_publications\" integer,\n",
    "\t\t\"books_and_thesis_publications\" integer\n",
    "\t\t)\n",
    ")\n",
    "select year,\n",
    "\tjournal_articles_publications,\n",
    "\tcoalesce(conference_and_workshop_papers_publications, 0)\n",
    "\t\tas conference_and_workshop_papers_publications,\n",
    "\tcoalesce(books_and_thesis_publications, 0)\n",
    "\t\tas books_and_thesis_publications\n",
    "from ans\n",
    "\n",
    ")\n",
    "to '/tmp/papers_count_per_type_per_year.csv'\n",
    "with delimiter ',' csv header;\n",
    ";"
   ]
  },
  {
   "cell_type": "code",
   "execution_count": 4,
   "metadata": {},
   "outputs": [
    {
     "name": "stdout",
     "output_type": "stream",
     "text": [
      "<class 'pandas.core.frame.DataFrame'>\n",
      "RangeIndex: 81 entries, 0 to 80\n",
      "Data columns (total 4 columns):\n",
      "year                                           81 non-null int64\n",
      "journal_articles_publications                  81 non-null int64\n",
      "conference_and_workshop_papers_publications    81 non-null int64\n",
      "books_and_thesis_publications                  81 non-null int64\n",
      "dtypes: int64(4)\n",
      "memory usage: 2.6 KB\n"
     ]
    },
    {
     "data": {
      "text/html": [
       "<div>\n",
       "<style scoped>\n",
       "    .dataframe tbody tr th:only-of-type {\n",
       "        vertical-align: middle;\n",
       "    }\n",
       "\n",
       "    .dataframe tbody tr th {\n",
       "        vertical-align: top;\n",
       "    }\n",
       "\n",
       "    .dataframe thead th {\n",
       "        text-align: right;\n",
       "    }\n",
       "</style>\n",
       "<table border=\"1\" class=\"dataframe\">\n",
       "  <thead>\n",
       "    <tr style=\"text-align: right;\">\n",
       "      <th></th>\n",
       "      <th>year</th>\n",
       "      <th>journal_articles_publications</th>\n",
       "      <th>conference_and_workshop_papers_publications</th>\n",
       "      <th>books_and_thesis_publications</th>\n",
       "    </tr>\n",
       "  </thead>\n",
       "  <tbody>\n",
       "    <tr>\n",
       "      <th>0</th>\n",
       "      <td>1936</td>\n",
       "      <td>12</td>\n",
       "      <td>0</td>\n",
       "      <td>0</td>\n",
       "    </tr>\n",
       "    <tr>\n",
       "      <th>1</th>\n",
       "      <td>1937</td>\n",
       "      <td>15</td>\n",
       "      <td>0</td>\n",
       "      <td>0</td>\n",
       "    </tr>\n",
       "    <tr>\n",
       "      <th>2</th>\n",
       "      <td>1938</td>\n",
       "      <td>10</td>\n",
       "      <td>0</td>\n",
       "      <td>0</td>\n",
       "    </tr>\n",
       "    <tr>\n",
       "      <th>3</th>\n",
       "      <td>1939</td>\n",
       "      <td>18</td>\n",
       "      <td>0</td>\n",
       "      <td>0</td>\n",
       "    </tr>\n",
       "    <tr>\n",
       "      <th>4</th>\n",
       "      <td>1940</td>\n",
       "      <td>10</td>\n",
       "      <td>0</td>\n",
       "      <td>0</td>\n",
       "    </tr>\n",
       "  </tbody>\n",
       "</table>\n",
       "</div>"
      ],
      "text/plain": [
       "   year  journal_articles_publications  \\\n",
       "0  1936                             12   \n",
       "1  1937                             15   \n",
       "2  1938                             10   \n",
       "3  1939                             18   \n",
       "4  1940                             10   \n",
       "\n",
       "   conference_and_workshop_papers_publications  books_and_thesis_publications  \n",
       "0                                            0                              0  \n",
       "1                                            0                              0  \n",
       "2                                            0                              0  \n",
       "3                                            0                              0  \n",
       "4                                            0                              0  "
      ]
     },
     "execution_count": 4,
     "metadata": {},
     "output_type": "execute_result"
    }
   ],
   "source": [
    "# File Statistics for Query 4 Answer \n",
    "# (where answer fileName of the query in the current directory is : \"papers_count_per_type_per_year.csv\")\n",
    "\n",
    "papers_count_per_type_per_year = pd.read_csv('papers_count_per_type_per_year.csv')\n",
    "\n",
    "papers_count_per_type_per_year.info()\n",
    "papers_count_per_type_per_year.head()"
   ]
  },
  {
   "cell_type": "code",
   "execution_count": 5,
   "metadata": {
    "scrolled": true
   },
   "outputs": [
    {
     "data": {
      "image/png": "[encoded data removed]",
      "text/plain": [
       "<matplotlib.figure.Figure at 0x7f4ddde17050>"
      ]
     },
     "metadata": {},
     "output_type": "display_data"
    }
   ],
   "source": [
    "# Visualization for Query 4 (Stacked-bar Graph)\n",
    "\n",
    "fig, ax = plt.subplots(figsize=(14, 6))\n",
    "\n",
    "p1 = ax.bar(papers_count_per_type_per_year['year'], papers_count_per_type_per_year['journal_articles_publications'])\n",
    "p2 = ax.bar(papers_count_per_type_per_year['year'], papers_count_per_type_per_year['conference_and_workshop_papers_publications'], bottom=papers_count_per_type_per_year['journal_articles_publications'])\n",
    "p3 = ax.bar(papers_count_per_type_per_year['year'], papers_count_per_type_per_year['books_and_thesis_publications'], bottom=papers_count_per_type_per_year['journal_articles_publications'] + papers_count_per_type_per_year['conference_and_workshop_papers_publications'])\n",
    "\n",
    "ax.set_xlabel('Year')\n",
    "ax.set_ylabel('Publications')\n",
    "ax.set_title('Publications by type per year')\n",
    "ax.legend((p1[0], p2[0], p3[0]), ('Journal Articles', 'Conference and Workshop Papers', 'Books and Thesis'))\n",
    "# Control the major tick label formats.\n",
    "ax.xaxis.set_major_locator(ticker.MultipleLocator(base=5))\n",
    "ax.yaxis.set_major_locator(ticker.MultipleLocator(base=10000))\n",
    "# Turn the axes grids on or off.\n",
    "# https://matplotlib.org/devdocs/api/_as_gen/matplotlib.axes.Axes.grid.html\n",
    "ax.grid(axis='both', linestyle='-', linewidth=0.5)\n",
    "ax.plot();"
   ]
  },
  {
   "cell_type": "markdown",
   "metadata": {},
   "source": [
    "# Query 5 : Publications per coauthors between 1995 and 2015"
   ]
  },
  {
   "cell_type": "markdown",
   "metadata": {},
   "source": [
    "*Insert your query in the cell below* (please put the query in \"markdown\" as plain text and do not execute the sql query as code) :"
   ]
  },
  {
   "cell_type": "markdown",
   "metadata": {},
   "source": [
    "------------- **INSERT QUERY 5 HERE** ----------------\n",
    "create extension tablefunc;\n",
    "\n",
    "copy(\n",
    "with ans as\n",
    "(\n",
    "select *\n",
    "from crosstab\n",
    "(\n",
    "\t'\n",
    "\twith coauthors\n",
    "\tas (select paperid, count(authid) as coauthors\n",
    "\t\tfrom paperauths\n",
    "\t\tgroup by paperid)\n",
    "\t, some_coauthors\n",
    "\tas (select paperid, coauthors, year\n",
    "\t\tfrom coauthors\n",
    "\t\t\tjoin papers on paperid = papers.id\n",
    "\t\t\tjoin venue on papers.venue = venue.id\n",
    "\t\twhere year >= 1995 and year <= 2015)\n",
    "\tselect coauthors, year, count(paperid)\n",
    "\tfrom some_coauthors\n",
    "\tgroup by coauthors, year\n",
    "\torder by coauthors, year',\n",
    "\t'\n",
    "\twith coauthors\n",
    "\tas (select paperid, count(authid) as coauthors\n",
    "\t\tfrom paperauths\n",
    "\t\tgroup by paperid)\n",
    "\t, some_coauthors\n",
    "\tas (select paperid, coauthors, year\n",
    "\t\tfrom coauthors\n",
    "\t\t\tjoin papers on paperid = papers.id\n",
    "\t\t\tjoin venue on papers.venue = venue.id\n",
    "\t\twhere year >= 1995 and year <= 2015)\n",
    "\tselect distinct year\n",
    "\tfrom some_coauthors\n",
    "\torder by year'\n",
    ") as res(coauthors integer, year_1995 integer, year_1996 integer,\n",
    "\t\tyear_1997 integer, year_1998 integer, year_1999 integer,\n",
    "\t\tyear_2000 integer, year_2001 integer, year_2002 integer,\n",
    "\t\tyear_2003 integer, year_2004 integer, year_2005 integer,\n",
    "\t\tyear_2006 integer, year_2007 integer, year_2008 integer,\n",
    "\t\tyear_2009 integer, year_2010 integer, year_2011 integer,\n",
    "\t\tyear_2012 integer, year_2013 integer, year_2014 integer,\n",
    "\t\tyear_2015 integer)\n",
    "\n",
    ")\n",
    "select coauthors as coauthors,\n",
    "\t\tcoalesce(year_1995, 0) as year_1995,\n",
    "\t\tcoalesce(year_1996, 0) as year_1996,\n",
    "\t\tcoalesce(year_1997, 0) as year_1997,\n",
    "\t\tcoalesce(year_1998, 0) as year_1998,\n",
    "\t\tcoalesce(year_1999, 0) as year_1999,\n",
    "\t\tcoalesce(year_2000, 0) as year_2000,\n",
    "\t\tcoalesce(year_2001, 0) as year_2001,\n",
    "\t\tcoalesce(year_2002, 0) as year_2002,\n",
    "\t\tcoalesce(year_2003, 0) as year_2003,\n",
    "\t\tcoalesce(year_2004, 0) as year_2004,\n",
    "\t\tcoalesce(year_2005, 0) as year_2005,\n",
    "\t\tcoalesce(year_2006, 0) as year_2006,\n",
    "\t\tcoalesce(year_2007, 0) as year_2007,\n",
    "\t\tcoalesce(year_2008, 0) as year_2008,\n",
    "\t\tcoalesce(year_2009, 0) as year_2009,\n",
    "\t\tcoalesce(year_2010, 0) as year_2010,\n",
    "\t\tcoalesce(year_2011, 0) as year_2011,\n",
    "\t\tcoalesce(year_2012, 0) as year_2012,\n",
    "\t\tcoalesce(year_2013, 0) as year_2013,\n",
    "\t\tcoalesce(year_2014, 0) as year_2014,\n",
    "\t\tcoalesce(year_2015, 0) as year_2015\n",
    "from ans\n",
    ")\n",
    "to '/tmp/papers_count_per_coauthors_between_1995_and_2015.csv'\n",
    "with delimiter ',' csv header;\n",
    ";"
   ]
  },
  {
   "cell_type": "code",
   "execution_count": 6,
   "metadata": {},
   "outputs": [
    {
     "name": "stdout",
     "output_type": "stream",
     "text": [
      "<class 'pandas.core.frame.DataFrame'>\n",
      "RangeIndex: 77 entries, 0 to 76\n",
      "Data columns (total 22 columns):\n",
      "coauthors    77 non-null int64\n",
      "year_1995    77 non-null int64\n",
      "year_1996    77 non-null int64\n",
      "year_1997    77 non-null int64\n",
      "year_1998    77 non-null int64\n",
      "year_1999    77 non-null int64\n",
      "year_2000    77 non-null int64\n",
      "year_2001    77 non-null int64\n",
      "year_2002    77 non-null int64\n",
      "year_2003    77 non-null int64\n",
      "year_2004    77 non-null int64\n",
      "year_2005    77 non-null int64\n",
      "year_2006    77 non-null int64\n",
      "year_2007    77 non-null int64\n",
      "year_2008    77 non-null int64\n",
      "year_2009    77 non-null int64\n",
      "year_2010    77 non-null int64\n",
      "year_2011    77 non-null int64\n",
      "year_2012    77 non-null int64\n",
      "year_2013    77 non-null int64\n",
      "year_2014    77 non-null int64\n",
      "year_2015    77 non-null int64\n",
      "dtypes: int64(22)\n",
      "memory usage: 13.3 KB\n"
     ]
    },
    {
     "data": {
      "text/html": [
       "<div>\n",
       "<style scoped>\n",
       "    .dataframe tbody tr th:only-of-type {\n",
       "        vertical-align: middle;\n",
       "    }\n",
       "\n",
       "    .dataframe tbody tr th {\n",
       "        vertical-align: top;\n",
       "    }\n",
       "\n",
       "    .dataframe thead th {\n",
       "        text-align: right;\n",
       "    }\n",
       "</style>\n",
       "<table border=\"1\" class=\"dataframe\">\n",
       "  <thead>\n",
       "    <tr style=\"text-align: right;\">\n",
       "      <th></th>\n",
       "      <th>coauthors</th>\n",
       "      <th>year_1995</th>\n",
       "      <th>year_1996</th>\n",
       "      <th>year_1997</th>\n",
       "      <th>year_1998</th>\n",
       "      <th>year_1999</th>\n",
       "      <th>year_2000</th>\n",
       "      <th>year_2001</th>\n",
       "      <th>year_2002</th>\n",
       "      <th>year_2003</th>\n",
       "      <th>...</th>\n",
       "      <th>year_2006</th>\n",
       "      <th>year_2007</th>\n",
       "      <th>year_2008</th>\n",
       "      <th>year_2009</th>\n",
       "      <th>year_2010</th>\n",
       "      <th>year_2011</th>\n",
       "      <th>year_2012</th>\n",
       "      <th>year_2013</th>\n",
       "      <th>year_2014</th>\n",
       "      <th>year_2015</th>\n",
       "    </tr>\n",
       "  </thead>\n",
       "  <tbody>\n",
       "    <tr>\n",
       "      <th>0</th>\n",
       "      <td>1</td>\n",
       "      <td>11511</td>\n",
       "      <td>12157</td>\n",
       "      <td>13013</td>\n",
       "      <td>13591</td>\n",
       "      <td>14953</td>\n",
       "      <td>16368</td>\n",
       "      <td>17227</td>\n",
       "      <td>17905</td>\n",
       "      <td>19929</td>\n",
       "      <td>...</td>\n",
       "      <td>24395</td>\n",
       "      <td>25786</td>\n",
       "      <td>25784</td>\n",
       "      <td>26275</td>\n",
       "      <td>26787</td>\n",
       "      <td>26536</td>\n",
       "      <td>26125</td>\n",
       "      <td>25803</td>\n",
       "      <td>24109</td>\n",
       "      <td>21673</td>\n",
       "    </tr>\n",
       "    <tr>\n",
       "      <th>1</th>\n",
       "      <td>2</td>\n",
       "      <td>14901</td>\n",
       "      <td>15840</td>\n",
       "      <td>17026</td>\n",
       "      <td>18621</td>\n",
       "      <td>20776</td>\n",
       "      <td>23672</td>\n",
       "      <td>25078</td>\n",
       "      <td>27677</td>\n",
       "      <td>32779</td>\n",
       "      <td>...</td>\n",
       "      <td>47390</td>\n",
       "      <td>51239</td>\n",
       "      <td>52987</td>\n",
       "      <td>56115</td>\n",
       "      <td>57311</td>\n",
       "      <td>59240</td>\n",
       "      <td>60739</td>\n",
       "      <td>60539</td>\n",
       "      <td>59336</td>\n",
       "      <td>51785</td>\n",
       "    </tr>\n",
       "    <tr>\n",
       "      <th>2</th>\n",
       "      <td>3</td>\n",
       "      <td>7939</td>\n",
       "      <td>8664</td>\n",
       "      <td>10153</td>\n",
       "      <td>11603</td>\n",
       "      <td>13394</td>\n",
       "      <td>15681</td>\n",
       "      <td>17250</td>\n",
       "      <td>20015</td>\n",
       "      <td>24728</td>\n",
       "      <td>...</td>\n",
       "      <td>41779</td>\n",
       "      <td>45742</td>\n",
       "      <td>49626</td>\n",
       "      <td>53510</td>\n",
       "      <td>55922</td>\n",
       "      <td>59672</td>\n",
       "      <td>62989</td>\n",
       "      <td>65004</td>\n",
       "      <td>65148</td>\n",
       "      <td>58817</td>\n",
       "    </tr>\n",
       "    <tr>\n",
       "      <th>3</th>\n",
       "      <td>4</td>\n",
       "      <td>2909</td>\n",
       "      <td>3297</td>\n",
       "      <td>4107</td>\n",
       "      <td>4831</td>\n",
       "      <td>5677</td>\n",
       "      <td>6828</td>\n",
       "      <td>7906</td>\n",
       "      <td>9465</td>\n",
       "      <td>12289</td>\n",
       "      <td>...</td>\n",
       "      <td>22573</td>\n",
       "      <td>25544</td>\n",
       "      <td>28679</td>\n",
       "      <td>31656</td>\n",
       "      <td>33936</td>\n",
       "      <td>37185</td>\n",
       "      <td>40364</td>\n",
       "      <td>43162</td>\n",
       "      <td>44753</td>\n",
       "      <td>41474</td>\n",
       "    </tr>\n",
       "    <tr>\n",
       "      <th>4</th>\n",
       "      <td>5</td>\n",
       "      <td>1105</td>\n",
       "      <td>1150</td>\n",
       "      <td>1490</td>\n",
       "      <td>1731</td>\n",
       "      <td>2100</td>\n",
       "      <td>2551</td>\n",
       "      <td>3024</td>\n",
       "      <td>3687</td>\n",
       "      <td>4878</td>\n",
       "      <td>...</td>\n",
       "      <td>9284</td>\n",
       "      <td>11071</td>\n",
       "      <td>12249</td>\n",
       "      <td>13798</td>\n",
       "      <td>15379</td>\n",
       "      <td>17190</td>\n",
       "      <td>19466</td>\n",
       "      <td>21561</td>\n",
       "      <td>22936</td>\n",
       "      <td>22351</td>\n",
       "    </tr>\n",
       "  </tbody>\n",
       "</table>\n",
       "<p>5 rows × 22 columns</p>\n",
       "</div>"
      ],
      "text/plain": [
       "   coauthors  year_1995  year_1996  year_1997  year_1998  year_1999  \\\n",
       "0          1      11511      12157      13013      13591      14953   \n",
       "1          2      14901      15840      17026      18621      20776   \n",
       "2          3       7939       8664      10153      11603      13394   \n",
       "3          4       2909       3297       4107       4831       5677   \n",
       "4          5       1105       1150       1490       1731       2100   \n",
       "\n",
       "   year_2000  year_2001  year_2002  year_2003    ...      year_2006  \\\n",
       "0      16368      17227      17905      19929    ...          24395   \n",
       "1      23672      25078      27677      32779    ...          47390   \n",
       "2      15681      17250      20015      24728    ...          41779   \n",
       "3       6828       7906       9465      12289    ...          22573   \n",
       "4       2551       3024       3687       4878    ...           9284   \n",
       "\n",
       "   year_2007  year_2008  year_2009  year_2010  year_2011  year_2012  \\\n",
       "0      25786      25784      26275      26787      26536      26125   \n",
       "1      51239      52987      56115      57311      59240      60739   \n",
       "2      45742      49626      53510      55922      59672      62989   \n",
       "3      25544      28679      31656      33936      37185      40364   \n",
       "4      11071      12249      13798      15379      17190      19466   \n",
       "\n",
       "   year_2013  year_2014  year_2015  \n",
       "0      25803      24109      21673  \n",
       "1      60539      59336      51785  \n",
       "2      65004      65148      58817  \n",
       "3      43162      44753      41474  \n",
       "4      21561      22936      22351  \n",
       "\n",
       "[5 rows x 22 columns]"
      ]
     },
     "execution_count": 6,
     "metadata": {},
     "output_type": "execute_result"
    }
   ],
   "source": [
    "# File Statistics for Query 4 Answer \n",
    "# (where answer fileName of the query in the current directory is : \"papers_count_per_coauthors_between_1995_and_2015.csv\")\n",
    "\n",
    "papers_count_per_coauthors_between_1995_and_2015 = pd.read_csv('papers_count_per_coauthors_between_1995_and_2015.csv')\n",
    "\n",
    "papers_count_per_coauthors_between_1995_and_2015.info()\n",
    "papers_count_per_coauthors_between_1995_and_2015.head()"
   ]
  },
  {
   "cell_type": "code",
   "execution_count": 7,
   "metadata": {
    "scrolled": false
   },
   "outputs": [
    {
     "data": {
      "image/png": "[encoded data removed]",
      "text/plain": [
       "<matplotlib.figure.Figure at 0x7f4ddd905750>"
      ]
     },
     "metadata": {},
     "output_type": "display_data"
    },
    {
     "data": {
      "image/png": "[encoded data removed]",
      "text/plain": [
       "<matplotlib.figure.Figure at 0x7f4ddd82e610>"
      ]
     },
     "metadata": {},
     "output_type": "display_data"
    },
    {
     "data": {
      "image/png": "[encoded data removed]",
      "text/plain": [
       "<matplotlib.figure.Figure at 0x7f4dddace510>"
      ]
     },
     "metadata": {},
     "output_type": "display_data"
    },
    {
     "data": {
      "image/png": "[encoded data removed]",
      "text/plain": [
       "<matplotlib.figure.Figure at 0x7f4ddda44d10>"
      ]
     },
     "metadata": {},
     "output_type": "display_data"
    },
    {
     "data": {
      "image/png": "[encoded data removed]",
      "text/plain": [
       "<matplotlib.figure.Figure at 0x7f4ddd9cda10>"
      ]
     },
     "metadata": {},
     "output_type": "display_data"
    }
   ],
   "source": [
    "# Visualization for Query 5 (only between 1-5 #co-authors) (Multiple Bar plots)\n",
    "\n",
    "x = list(range(1995, 2016))\n",
    "author_ctr = 0\n",
    "results_to_display = 5\n",
    "\n",
    "for coauthors in papers_count_per_coauthors_between_1995_and_2015['coauthors']:\n",
    "    h = papers_count_per_coauthors_between_1995_and_2015.loc[papers_count_per_coauthors_between_1995_and_2015['coauthors'] == coauthors].drop('coauthors', 1)\n",
    "    fig, ax = plt.subplots(figsize=(20, 6))\n",
    "    ax.set_xlabel('Year')\n",
    "    ax.set_ylabel('Publications')\n",
    "    ax.set_title('Publications per year with %d #coauthors' % (coauthors,))\n",
    "    ax.xaxis.set_major_locator(ticker.MultipleLocator(base=1))\n",
    "    ax.grid(axis='y', linestyle='-', linewidth=0.5)\n",
    "    ax.bar(x, h.iloc[0].values)\n",
    "    ax.plot();\n",
    "    author_ctr += 1\n",
    "    \n",
    "    if author_ctr == results_to_display:\n",
    "        break"
   ]
  },
  {
   "cell_type": "code",
   "execution_count": null,
   "metadata": {},
   "outputs": [],
   "source": []
  }
 ],
 "metadata": {
  "kernelspec": {
   "display_name": "Python 3",
   "language": "python",
   "name": "python3"
  },
  "language_info": {
   "codemirror_mode": {
    "name": "ipython",
    "version": 2
   },
   "file_extension": ".py",
   "mimetype": "text/x-python",
   "name": "python",
   "nbconvert_exporter": "python",
   "pygments_lexer": "ipython2",
   "version": "2.7.14"
  }
 },
 "nbformat": 4,
 "nbformat_minor": 2
}
